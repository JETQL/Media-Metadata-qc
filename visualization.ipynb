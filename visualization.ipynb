{
 "cells": [
  {
   "cell_type": "markdown",
   "id": "264fbd2a",
   "metadata": {},
   "source": [
    "# 📊 Delivery Performance Visualization"
   ]
  },
  {
   "cell_type": "code",
   "execution_count": null,
   "id": "9396475f",
   "metadata": {},
   "outputs": [],
   "source": [
    "import pandas as pd\n",
    "import matplotlib.pyplot as plt\n",
    "\n",
    "df = pd.read_csv(\"data/sample_asset_report.csv\")\n",
    "df['Delivery Date'] = pd.to_datetime(df['Delivery Date'])\n",
    "df['On Time'] = df['Delivery Date'] <= pd.to_datetime('2025-07-01')\n",
    "\n",
    "# Platform delivery counts\n",
    "df['Platform'].value_counts().plot(kind='bar', title='Assets Delivered per Platform')\n",
    "plt.xlabel('Platform')\n",
    "plt.ylabel('Count')\n",
    "plt.show()\n",
    "\n",
    "# Average Runtime by Platform\n",
    "df.groupby('Platform')['Runtime'].mean().plot(kind='bar', title='Average Runtime by Platform', color='orange')\n",
    "plt.ylabel('Minutes')\n",
    "plt.show()\n",
    "\n",
    "# On-time delivery rate\n",
    "df.groupby('Platform')['On Time'].mean().plot(kind='bar', title='On-Time Delivery Rate by Platform', color='green')\n",
    "plt.ylabel('On-Time Rate')\n",
    "plt.show()"
   ]
  }
 ],
 "metadata": {},
 "nbformat": 4,
 "nbformat_minor": 5
}
